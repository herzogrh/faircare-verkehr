{
 "cells": [
  {
   "cell_type": "markdown",
   "metadata": {},
   "source": [
    "# Geodata Preparation"
   ]
  },
  {
   "cell_type": "code",
   "execution_count": 42,
   "metadata": {},
   "outputs": [],
   "source": [
    "import pandas as pd, geopandas as gpd, numpy as np"
   ]
  },
  {
   "cell_type": "code",
   "execution_count": 2,
   "metadata": {},
   "outputs": [],
   "source": [
    "stadtteile = gpd.read_file(\"../assets/geodata/stadtteile.geojson\")"
   ]
  },
  {
   "cell_type": "code",
   "execution_count": 5,
   "metadata": {},
   "outputs": [
    {
     "data": {
      "text/plain": [
       "<AxesSubplot:>"
      ]
     },
     "execution_count": 5,
     "metadata": {},
     "output_type": "execute_result"
    },
    {
     "data": {
      "image/png": "[encoded data removed]",
      "text/plain": [
       "<Figure size 432x288 with 1 Axes>"
      ]
     },
     "metadata": {
      "needs_background": "light"
     },
     "output_type": "display_data"
    }
   ],
   "source": [
    "stadtteile.plot()"
   ]
  },
  {
   "cell_type": "code",
   "execution_count": 2,
   "metadata": {},
   "outputs": [
    {
     "name": "stdout",
     "output_type": "stream",
     "text": [
      "Hello\n"
     ]
    }
   ],
   "source": [
    "print(\"Hello\")"
   ]
  },
  {
   "cell_type": "code",
   "execution_count": 14,
   "metadata": {},
   "outputs": [],
   "source": [
    "stadtteilprofile = pd.read_excel(\"../assets/data/Stadtteilprofile2021.xlsx\", header = 1, index_col = 0)"
   ]
  },
  {
   "cell_type": "code",
   "execution_count": 16,
   "metadata": {},
   "outputs": [
    {
     "data": {
      "text/plain": [
       "Index(['Bevölkerung', 'Unter 18-Jährige', 'Anteil der unter 18-Jährigen in %',\n",
       "       ' 65-Jährige und Ältere', 'Anteil der 65-Jährigen und Älteren in %',\n",
       "       'Ausländer:innen', 'Anteil der Ausländer:innen in %',\n",
       "       'Bevölkerung mit Migrations-hintergrund',\n",
       "       'Anteil der Bevölkerung mit Migrations-hintergrund in %',\n",
       "       'Unter 18-Jährige mit Migrations-hintergrund',\n",
       "       'Anteil der unter 18-Jährigen mit Migrations-hintergrund in %',\n",
       "       'Haushalte', 'Personen je Haushalt', 'Einpersonen-haushalte',\n",
       "       'Anteil der Einpersonen-haushalte in %', 'Haushalte mit Kindern',\n",
       "       'Anteil der Haushalte mit Kindern in %', 'Alleinerziehende',\n",
       "       'Anteil der Haushalte von Alleinerziehenden in %', 'Fläche in km²',\n",
       "       'Bevölkerungs-dichte', 'Geburten', 'Sterbefälle', 'Zuzüge', 'Fortzüge',\n",
       "       'Wanderungssaldo',\n",
       "       'Sozial-versicherungs-pflichtig Beschäftigte (Dez 2020)',\n",
       "       'Beschäftigten-quote in % (Dez 2020)', 'Arbeitslose (Dez 2020)',\n",
       "       'Arbeitslosenanteil in % (Dez 2020)', 'Jüngere Arbeitslose (Dez 2020)',\n",
       "       'Arbeitslosenanteil Jüngerer in % (Dez 2020)',\n",
       "       'Ältere Arbeitslose (Dez 2020)',\n",
       "       'Arbeitslosenanteil Älterer in % (Dez 2020)',\n",
       "       'Leistungs-empfänger:innen nach SGB II (Dez 2020)',\n",
       "       'Anteil der Leistungs-empfänger:innen nach SGB II in % (Dez 2020)',\n",
       "       'Unter 15-Jährige in Mindestsicherung (Dez 2020)',\n",
       "       'Anteil der unter 15-Jährigen in Mindestsicherung in % (Dez 2020)',\n",
       "       'Bedarfs-gemeinschaften nach SGB II (Dez 2020)',\n",
       "       'Grundsicherung im Alter der 65-Jährigen und Älteren',\n",
       "       'in % der 65-Jährigen und Älteren', 'Wohngebäude (2020)',\n",
       "       'Wohnungen (2020)', 'Bezugsfertige Wohnungen (2020)',\n",
       "       'Wohnungen in Ein- und Zweifamilien-häusern (2020)',\n",
       "       'Anteil der Wohnungen in Ein- und Zweifamilien-häusern in % (2020)',\n",
       "       'Wohnungsgröße in m² (2020)', 'Wohnfläche je Einwohner:in in m² (2020)',\n",
       "       'Sozialwohnungen (Jan 2021)', 'Sozialwohnungs-anteil in % (Jan 2021)',\n",
       "       'Sozialwohnungen mit Bindungsauslauf bis 2026',\n",
       "       'Sozialwohnungen mit Bindungsauslauf bis 2026 in %',\n",
       "       'Preise für Grundstücke in EUR/m² (Jan 2021)',\n",
       "       'Preise für Ein- bzw Zwei-familienhäuser in EUR/m² (Jan 2021)',\n",
       "       'Preise für Eigentums-wohnungen in EUR/m² (Jan 2021)',\n",
       "       'Kindergärten und Vorschulklassen (März 2021)',\n",
       "       'Grundschulen (2020/2021)',\n",
       "       'Schüler:innen der Sekundarstufe I (2020/2021)',\n",
       "       'Anteil der Schüler:innen in Stadtteilschulen in % (2020/2021)',\n",
       "       'Anteil der Schüler:innen in Gymnasien in % (2020/2021)',\n",
       "       'Niedergelassene Ärzte:innen (Jan 2021)',\n",
       "       'Allgemeinärzte:innen (Jan 2021)', 'Zahnärzte:innen (Dez 2020)',\n",
       "       'Apotheken (Dez 2020)', 'Private PKW (Jan 2021)',\n",
       "       'PKW-Dichte (Jan 2021)', 'Elektro-PKW  (Jan 2021)'],\n",
       "      dtype='object')"
      ]
     },
     "execution_count": 16,
     "metadata": {},
     "output_type": "execute_result"
    }
   ],
   "source": [
    "stadtteilprofile.columns"
   ]
  },
  {
   "cell_type": "code",
   "execution_count": 20,
   "metadata": {},
   "outputs": [],
   "source": [
    "stadtteile = stadtteile.set_index(\"stadtteil_name\")"
   ]
  },
  {
   "cell_type": "code",
   "execution_count": 21,
   "metadata": {},
   "outputs": [
    {
     "data": {
      "text/html": [
       "<div>\n",
       "<style scoped>\n",
       "    .dataframe tbody tr th:only-of-type {\n",
       "        vertical-align: middle;\n",
       "    }\n",
       "\n",
       "    .dataframe tbody tr th {\n",
       "        vertical-align: top;\n",
       "    }\n",
       "\n",
       "    .dataframe thead th {\n",
       "        text-align: right;\n",
       "    }\n",
       "</style>\n",
       "<table border=\"1\" class=\"dataframe\">\n",
       "  <thead>\n",
       "    <tr style=\"text-align: right;\">\n",
       "      <th></th>\n",
       "      <th>id</th>\n",
       "      <th>stadtteil_schluessel</th>\n",
       "      <th>bezirk</th>\n",
       "      <th>bezirk_name</th>\n",
       "      <th>stadtteil_nummer</th>\n",
       "      <th>geometry</th>\n",
       "    </tr>\n",
       "    <tr>\n",
       "      <th>stadtteil_name</th>\n",
       "      <th></th>\n",
       "      <th></th>\n",
       "      <th></th>\n",
       "      <th></th>\n",
       "      <th></th>\n",
       "      <th></th>\n",
       "    </tr>\n",
       "  </thead>\n",
       "  <tbody>\n",
       "    <tr>\n",
       "      <th>Hamburg-Altstadt</th>\n",
       "      <td>APP_STADTTEILE_1</td>\n",
       "      <td>02101</td>\n",
       "      <td>1</td>\n",
       "      <td>Hamburg-Mitte</td>\n",
       "      <td>101</td>\n",
       "      <td>MULTIPOLYGON (((10.00603 53.54850, 10.00704 53...</td>\n",
       "    </tr>\n",
       "    <tr>\n",
       "      <th>HafenCity</th>\n",
       "      <td>APP_STADTTEILE_2</td>\n",
       "      <td>02102</td>\n",
       "      <td>1</td>\n",
       "      <td>Hamburg-Mitte</td>\n",
       "      <td>102</td>\n",
       "      <td>MULTIPOLYGON (((9.99864 53.53696, 9.99737 53.5...</td>\n",
       "    </tr>\n",
       "    <tr>\n",
       "      <th>Neustadt</th>\n",
       "      <td>APP_STADTTEILE_3</td>\n",
       "      <td>02103</td>\n",
       "      <td>1</td>\n",
       "      <td>Hamburg-Mitte</td>\n",
       "      <td>103</td>\n",
       "      <td>MULTIPOLYGON (((9.99383 53.55239, 9.99213 53.5...</td>\n",
       "    </tr>\n",
       "    <tr>\n",
       "      <th>St. Pauli</th>\n",
       "      <td>APP_STADTTEILE_4</td>\n",
       "      <td>02104</td>\n",
       "      <td>1</td>\n",
       "      <td>Hamburg-Mitte</td>\n",
       "      <td>104</td>\n",
       "      <td>MULTIPOLYGON (((9.96336 53.54434, 9.96233 53.5...</td>\n",
       "    </tr>\n",
       "    <tr>\n",
       "      <th>St. Georg</th>\n",
       "      <td>APP_STADTTEILE_5</td>\n",
       "      <td>02105</td>\n",
       "      <td>1</td>\n",
       "      <td>Hamburg-Mitte</td>\n",
       "      <td>105</td>\n",
       "      <td>MULTIPOLYGON (((10.01230 53.54985, 10.01210 53...</td>\n",
       "    </tr>\n",
       "    <tr>\n",
       "      <th>...</th>\n",
       "      <td>...</td>\n",
       "      <td>...</td>\n",
       "      <td>...</td>\n",
       "      <td>...</td>\n",
       "      <td>...</td>\n",
       "      <td>...</td>\n",
       "    </tr>\n",
       "    <tr>\n",
       "      <th>Hausbruch</th>\n",
       "      <td>APP_STADTTEILE_100</td>\n",
       "      <td>02713</td>\n",
       "      <td>7</td>\n",
       "      <td>Harburg</td>\n",
       "      <td>713</td>\n",
       "      <td>MULTIPOLYGON (((9.89393 53.47177, 9.89387 53.4...</td>\n",
       "    </tr>\n",
       "    <tr>\n",
       "      <th>Neugraben-Fischbek</th>\n",
       "      <td>APP_STADTTEILE_101</td>\n",
       "      <td>02714</td>\n",
       "      <td>7</td>\n",
       "      <td>Harburg</td>\n",
       "      <td>714</td>\n",
       "      <td>MULTIPOLYGON (((9.85078 53.43952, 9.85041 53.4...</td>\n",
       "    </tr>\n",
       "    <tr>\n",
       "      <th>Francop</th>\n",
       "      <td>APP_STADTTEILE_102</td>\n",
       "      <td>02715</td>\n",
       "      <td>7</td>\n",
       "      <td>Harburg</td>\n",
       "      <td>715</td>\n",
       "      <td>MULTIPOLYGON (((9.88042 53.51673, 9.88049 53.5...</td>\n",
       "    </tr>\n",
       "    <tr>\n",
       "      <th>Neuenfelde</th>\n",
       "      <td>APP_STADTTEILE_103</td>\n",
       "      <td>02716</td>\n",
       "      <td>7</td>\n",
       "      <td>Harburg</td>\n",
       "      <td>716</td>\n",
       "      <td>MULTIPOLYGON (((9.78286 53.50036, 9.78278 53.5...</td>\n",
       "    </tr>\n",
       "    <tr>\n",
       "      <th>Cranz</th>\n",
       "      <td>APP_STADTTEILE_104</td>\n",
       "      <td>02717</td>\n",
       "      <td>7</td>\n",
       "      <td>Harburg</td>\n",
       "      <td>717</td>\n",
       "      <td>MULTIPOLYGON (((9.79130 53.53488, 9.79108 53.5...</td>\n",
       "    </tr>\n",
       "  </tbody>\n",
       "</table>\n",
       "<p>104 rows × 6 columns</p>\n",
       "</div>"
      ],
      "text/plain": [
       "                                    id stadtteil_schluessel bezirk  \\\n",
       "stadtteil_name                                                       \n",
       "Hamburg-Altstadt      APP_STADTTEILE_1                02101      1   \n",
       "HafenCity             APP_STADTTEILE_2                02102      1   \n",
       "Neustadt              APP_STADTTEILE_3                02103      1   \n",
       "St. Pauli             APP_STADTTEILE_4                02104      1   \n",
       "St. Georg             APP_STADTTEILE_5                02105      1   \n",
       "...                                ...                  ...    ...   \n",
       "Hausbruch           APP_STADTTEILE_100                02713      7   \n",
       "Neugraben-Fischbek  APP_STADTTEILE_101                02714      7   \n",
       "Francop             APP_STADTTEILE_102                02715      7   \n",
       "Neuenfelde          APP_STADTTEILE_103                02716      7   \n",
       "Cranz               APP_STADTTEILE_104                02717      7   \n",
       "\n",
       "                      bezirk_name stadtteil_nummer  \\\n",
       "stadtteil_name                                       \n",
       "Hamburg-Altstadt    Hamburg-Mitte              101   \n",
       "HafenCity           Hamburg-Mitte              102   \n",
       "Neustadt            Hamburg-Mitte              103   \n",
       "St. Pauli           Hamburg-Mitte              104   \n",
       "St. Georg           Hamburg-Mitte              105   \n",
       "...                           ...              ...   \n",
       "Hausbruch                 Harburg              713   \n",
       "Neugraben-Fischbek        Harburg              714   \n",
       "Francop                   Harburg              715   \n",
       "Neuenfelde                Harburg              716   \n",
       "Cranz                     Harburg              717   \n",
       "\n",
       "                                                             geometry  \n",
       "stadtteil_name                                                         \n",
       "Hamburg-Altstadt    MULTIPOLYGON (((10.00603 53.54850, 10.00704 53...  \n",
       "HafenCity           MULTIPOLYGON (((9.99864 53.53696, 9.99737 53.5...  \n",
       "Neustadt            MULTIPOLYGON (((9.99383 53.55239, 9.99213 53.5...  \n",
       "St. Pauli           MULTIPOLYGON (((9.96336 53.54434, 9.96233 53.5...  \n",
       "St. Georg           MULTIPOLYGON (((10.01230 53.54985, 10.01210 53...  \n",
       "...                                                               ...  \n",
       "Hausbruch           MULTIPOLYGON (((9.89393 53.47177, 9.89387 53.4...  \n",
       "Neugraben-Fischbek  MULTIPOLYGON (((9.85078 53.43952, 9.85041 53.4...  \n",
       "Francop             MULTIPOLYGON (((9.88042 53.51673, 9.88049 53.5...  \n",
       "Neuenfelde          MULTIPOLYGON (((9.78286 53.50036, 9.78278 53.5...  \n",
       "Cranz               MULTIPOLYGON (((9.79130 53.53488, 9.79108 53.5...  \n",
       "\n",
       "[104 rows x 6 columns]"
      ]
     },
     "execution_count": 21,
     "metadata": {},
     "output_type": "execute_result"
    }
   ],
   "source": [
    "stadtteile"
   ]
  },
  {
   "cell_type": "code",
   "execution_count": 70,
   "metadata": {},
   "outputs": [],
   "source": [
    "stadtteile_einkuenfte = pd.read_csv(\"../assets/data/Stadtteil_Einkünfte.csv\", sep=\";\", index_col=\"Bezirk Stadtteil Land\" )\n",
    "stadtteile_einkuenfte[\"Gesamtbetrag der Einkünfte (Mittelwert)\"] = pd.to_numeric(stadtteile_einkuenfte[\"Gesamtbetrag der Einkünfte (Mittelwert)\"], errors=\"coerce\")\n",
    "stadtteile_einkuenfte[\"Gesamtbetrag der Einkünfte (Median)\"] = pd.to_numeric(stadtteile_einkuenfte[\"Gesamtbetrag der Einkünfte (Median)\"], errors=\"coerce\")\n",
    "\n",
    "#stadtteile_einkuenfte"
   ]
  },
  {
   "cell_type": "code",
   "execution_count": 71,
   "metadata": {},
   "outputs": [
    {
     "data": {
      "text/plain": [
       "Gesamtbetrag d Einkünfte (1000€)                                     object\n",
       "Festgesetzte Einkommensteuer/Jahreslohnsteuer (Steuerpflichtige)      int64\n",
       "Festgesetzte Einkommensteuer/Jahreslohnsteuer (1000 Euro)            object\n",
       "Gesamtbetrag der Einkünfte (Mittelwert)                             float64\n",
       "Gesamtbetrag der Einkünfte (Median)                                 float64\n",
       "dtype: object"
      ]
     },
     "execution_count": 71,
     "metadata": {},
     "output_type": "execute_result"
    }
   ],
   "source": [
    "stadtteile_einkuenfte.dtypes"
   ]
  },
  {
   "cell_type": "code",
   "execution_count": 72,
   "metadata": {},
   "outputs": [],
   "source": [
    "stadtteile_einkuenfte = stadtteile.merge(stadtteile_einkuenfte, left_index=True, right_index=True)"
   ]
  },
  {
   "cell_type": "code",
   "execution_count": 73,
   "metadata": {},
   "outputs": [
    {
     "data": {
      "text/plain": [
       "<AxesSubplot:>"
      ]
     },
     "execution_count": 73,
     "metadata": {},
     "output_type": "execute_result"
    },
    {
     "data": {
      "image/png": "[encoded data removed]",
      "text/plain": [
       "<Figure size 432x288 with 2 Axes>"
      ]
     },
     "metadata": {
      "needs_background": "light"
     },
     "output_type": "display_data"
    }
   ],
   "source": [
    "stadtteile_einkuenfte.plot(column = \"Gesamtbetrag der Einkünfte (Mittelwert)\", legend= True)"
   ]
  },
  {
   "cell_type": "code",
   "execution_count": null,
   "metadata": {},
   "outputs": [],
   "source": []
  }
 ],
 "metadata": {
  "interpreter": {
   "hash": "a9e9394fc31bfddbd836be2dd292d461e9eefccac34f1abf0a01a77015a53553"
  },
  "kernelspec": {
   "display_name": "Python 3.9.7 64-bit ('mapping': conda)",
   "language": "python",
   "name": "python3"
  },
  "language_info": {
   "codemirror_mode": {
    "name": "ipython",
    "version": 3
   },
   "file_extension": ".py",
   "mimetype": "text/x-python",
   "name": "python",
   "nbconvert_exporter": "python",
   "pygments_lexer": "ipython3",
   "version": "3.9.7"
  },
  "orig_nbformat": 4
 },
 "nbformat": 4,
 "nbformat_minor": 2
}
