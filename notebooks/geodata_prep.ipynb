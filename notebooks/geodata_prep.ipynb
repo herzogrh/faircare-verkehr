{
 "cells": [
  {
   "cell_type": "markdown",
   "metadata": {},
   "source": [
    "# Geodata Preparation"
   ]
  },
  {
   "cell_type": "code",
   "execution_count": 22,
   "metadata": {},
   "outputs": [],
   "source": [
    "import pandas as pd, geopandas as gpd, numpy as np\n",
    "import mapclassify"
   ]
  },
  {
   "cell_type": "code",
   "execution_count": 2,
   "metadata": {},
   "outputs": [],
   "source": [
    "stadtteile = gpd.read_file(\"../assets/geodata/stadtteile.geojson\")"
   ]
  },
  {
   "cell_type": "code",
   "execution_count": 5,
   "metadata": {},
   "outputs": [
    {
     "data": {
      "text/plain": [
       "<AxesSubplot:>"
      ]
     },
     "execution_count": 5,
     "metadata": {},
     "output_type": "execute_result"
    },
    {
     "data": {
      "image/png": "[encoded data removed]",
      "text/plain": [
       "<Figure size 432x288 with 1 Axes>"
      ]
     },
     "metadata": {
      "needs_background": "light"
     },
     "output_type": "display_data"
    }
   ],
   "source": [
    "stadtteile.plot()"
   ]
  },
  {
   "cell_type": "code",
   "execution_count": 2,
   "metadata": {},
   "outputs": [
    {
     "name": "stdout",
     "output_type": "stream",
     "text": [
      "Hello\n"
     ]
    }
   ],
   "source": [
    "print(\"Hello\")"
   ]
  },
  {
   "cell_type": "code",
   "execution_count": 3,
   "metadata": {},
   "outputs": [],
   "source": [
    "stadtteilprofile = pd.read_excel(\"../assets/data/Stadtteilprofile2021.xlsx\", header = 1, index_col = 0)"
   ]
  },
  {
   "cell_type": "code",
   "execution_count": 4,
   "metadata": {},
   "outputs": [
    {
     "data": {
      "text/plain": [
       "Index(['Bevölkerung', 'Unter 18-Jährige', 'Anteil der unter 18-Jährigen in %',\n",
       "       ' 65-Jährige und Ältere', 'Anteil der 65-Jährigen und Älteren in %',\n",
       "       'Ausländer:innen', 'Anteil der Ausländer:innen in %',\n",
       "       'Bevölkerung mit Migrations-hintergrund',\n",
       "       'Anteil der Bevölkerung mit Migrations-hintergrund in %',\n",
       "       'Unter 18-Jährige mit Migrations-hintergrund',\n",
       "       'Anteil der unter 18-Jährigen mit Migrations-hintergrund in %',\n",
       "       'Haushalte', 'Personen je Haushalt', 'Einpersonen-haushalte',\n",
       "       'Anteil der Einpersonen-haushalte in %', 'Haushalte mit Kindern',\n",
       "       'Anteil der Haushalte mit Kindern in %', 'Alleinerziehende',\n",
       "       'Anteil der Haushalte von Alleinerziehenden in %', 'Fläche in km²',\n",
       "       'Bevölkerungs-dichte', 'Geburten', 'Sterbefälle', 'Zuzüge', 'Fortzüge',\n",
       "       'Wanderungssaldo',\n",
       "       'Sozial-versicherungs-pflichtig Beschäftigte (Dez 2020)',\n",
       "       'Beschäftigten-quote in % (Dez 2020)', 'Arbeitslose (Dez 2020)',\n",
       "       'Arbeitslosenanteil in % (Dez 2020)', 'Jüngere Arbeitslose (Dez 2020)',\n",
       "       'Arbeitslosenanteil Jüngerer in % (Dez 2020)',\n",
       "       'Ältere Arbeitslose (Dez 2020)',\n",
       "       'Arbeitslosenanteil Älterer in % (Dez 2020)',\n",
       "       'Leistungs-empfänger:innen nach SGB II (Dez 2020)',\n",
       "       'Anteil der Leistungs-empfänger:innen nach SGB II in % (Dez 2020)',\n",
       "       'Unter 15-Jährige in Mindestsicherung (Dez 2020)',\n",
       "       'Anteil der unter 15-Jährigen in Mindestsicherung in % (Dez 2020)',\n",
       "       'Bedarfs-gemeinschaften nach SGB II (Dez 2020)',\n",
       "       'Grundsicherung im Alter der 65-Jährigen und Älteren',\n",
       "       'in % der 65-Jährigen und Älteren', 'Wohngebäude (2020)',\n",
       "       'Wohnungen (2020)', 'Bezugsfertige Wohnungen (2020)',\n",
       "       'Wohnungen in Ein- und Zweifamilien-häusern (2020)',\n",
       "       'Anteil der Wohnungen in Ein- und Zweifamilien-häusern in % (2020)',\n",
       "       'Wohnungsgröße in m² (2020)', 'Wohnfläche je Einwohner:in in m² (2020)',\n",
       "       'Sozialwohnungen (Jan 2021)', 'Sozialwohnungs-anteil in % (Jan 2021)',\n",
       "       'Sozialwohnungen mit Bindungsauslauf bis 2026',\n",
       "       'Sozialwohnungen mit Bindungsauslauf bis 2026 in %',\n",
       "       'Preise für Grundstücke in EUR/m² (Jan 2021)',\n",
       "       'Preise für Ein- bzw Zwei-familienhäuser in EUR/m² (Jan 2021)',\n",
       "       'Preise für Eigentums-wohnungen in EUR/m² (Jan 2021)',\n",
       "       'Kindergärten und Vorschulklassen (März 2021)',\n",
       "       'Grundschulen (2020/2021)',\n",
       "       'Schüler:innen der Sekundarstufe I (2020/2021)',\n",
       "       'Anteil der Schüler:innen in Stadtteilschulen in % (2020/2021)',\n",
       "       'Anteil der Schüler:innen in Gymnasien in % (2020/2021)',\n",
       "       'Niedergelassene Ärzte:innen (Jan 2021)',\n",
       "       'Allgemeinärzte:innen (Jan 2021)', 'Zahnärzte:innen (Dez 2020)',\n",
       "       'Apotheken (Dez 2020)', 'Private PKW (Jan 2021)',\n",
       "       'PKW-Dichte (Jan 2021)', 'Elektro-PKW  (Jan 2021)'],\n",
       "      dtype='object')"
      ]
     },
     "execution_count": 4,
     "metadata": {},
     "output_type": "execute_result"
    }
   ],
   "source": [
    "stadtteilprofile.columns"
   ]
  },
  {
   "cell_type": "code",
   "execution_count": 5,
   "metadata": {},
   "outputs": [],
   "source": [
    "stadtteile = stadtteile.set_index(\"stadtteil_name\")"
   ]
  },
  {
   "cell_type": "code",
   "execution_count": 42,
   "metadata": {},
   "outputs": [
    {
     "name": "stderr",
     "output_type": "stream",
     "text": [
      "/opt/miniconda3/lib/python3.9/site-packages/pandas/core/dtypes/inference.py:383: ShapelyDeprecationWarning: Iteration over multi-part geometries is deprecated and will be removed in Shapely 2.0. Use the `geoms` property to access the constituent parts of a multi-part geometry.\n",
      "  iter(obj)  # Can iterate over it.\n",
      "/opt/miniconda3/lib/python3.9/site-packages/pandas/core/dtypes/inference.py:384: ShapelyDeprecationWarning: __len__ for multi-part geometries is deprecated and will be removed in Shapely 2.0. Check the length of the `geoms` property instead to get the  number of parts of a multi-part geometry.\n",
      "  len(obj)  # Has a length associated with it.\n",
      "/opt/miniconda3/lib/python3.9/site-packages/pandas/io/formats/printing.py:118: ShapelyDeprecationWarning: Iteration over multi-part geometries is deprecated and will be removed in Shapely 2.0. Use the `geoms` property to access the constituent parts of a multi-part geometry.\n",
      "  s = iter(seq)\n",
      "/opt/miniconda3/lib/python3.9/site-packages/pandas/io/formats/printing.py:122: ShapelyDeprecationWarning: __len__ for multi-part geometries is deprecated and will be removed in Shapely 2.0. Check the length of the `geoms` property instead to get the  number of parts of a multi-part geometry.\n",
      "  for i in range(min(nitems, len(seq)))\n",
      "/opt/miniconda3/lib/python3.9/site-packages/pandas/io/formats/printing.py:126: ShapelyDeprecationWarning: __len__ for multi-part geometries is deprecated and will be removed in Shapely 2.0. Check the length of the `geoms` property instead to get the  number of parts of a multi-part geometry.\n",
      "  if nitems < len(seq):\n"
     ]
    },
    {
     "data": {
      "text/plain": [
       "id                                                      APP_STADTTEILE_47\n",
       "stadtteil_schluessel                                                02405\n",
       "bezirk                                                                  4\n",
       "bezirk_name                                                  Hamburg-Nord\n",
       "stadtteil_nummer                                                      405\n",
       "geometry                (POLYGON ((10.033133116297526 53.5891100346961...\n",
       "Name: Winterhude, dtype: object"
      ]
     },
     "execution_count": 42,
     "metadata": {},
     "output_type": "execute_result"
    }
   ],
   "source": [
    "stadtteile.loc[\"Winterhude\"]"
   ]
  },
  {
   "cell_type": "code",
   "execution_count": 46,
   "metadata": {},
   "outputs": [],
   "source": [
    "stadtteile_einkuenfte = pd.read_csv(\"../assets/data/Stadtteil_Einkünfte.csv\", sep=\";\", index_col=\"Bezirk Stadtteil Land\" )\n",
    "stadtteile_einkuenfte[\"Gesamtbetrag der Einkünfte (Mittelwert)\"] = pd.to_numeric(stadtteile_einkuenfte[\"Gesamtbetrag der Einkünfte (Mittelwert)\"], errors=\"coerce\")\n",
    "stadtteile_einkuenfte[\"Gesamtbetrag der Einkünfte (Median)\"] = pd.to_numeric(stadtteile_einkuenfte[\"Gesamtbetrag der Einkünfte (Median)\"], errors=\"coerce\")\n",
    "\n",
    "#stadtteile_einkuenfte"
   ]
  },
  {
   "cell_type": "code",
   "execution_count": 47,
   "metadata": {},
   "outputs": [
    {
     "data": {
      "text/plain": [
       "Gesamtbetrag d Einkünfte (1000€)                                    int64\n",
       "Festgesetzte Einkommensteuer/Jahreslohnsteuer (Steuerpflichtige)    int64\n",
       "Festgesetzte Einkommensteuer/Jahreslohnsteuer (1000 Euro)           int64\n",
       "Gesamtbetrag der Einkünfte (Mittelwert)                             int64\n",
       "Gesamtbetrag der Einkünfte (Median)                                 int64\n",
       "dtype: object"
      ]
     },
     "execution_count": 47,
     "metadata": {},
     "output_type": "execute_result"
    }
   ],
   "source": [
    "stadtteile_einkuenfte.dtypes"
   ]
  },
  {
   "cell_type": "code",
   "execution_count": 37,
   "metadata": {},
   "outputs": [
    {
     "name": "stdout",
     "output_type": "stream",
     "text": [
      "Bezirk Stadtteil Land\n",
      "Bezirk Hamburg-Mitte                                              18808.0\n",
      "Hamburg-Altstadt                                                  10811.0\n",
      "HafenCity                                                         57913.0\n",
      "Neustadt                                                          24715.0\n",
      "St. Pauli                                                         19399.0\n",
      "St. Georg                                                         27161.0\n",
      "Hammerbrook                                                       10502.0\n",
      "Borgfelde                                                         21584.0\n",
      "Hamm                                                              21932.0\n",
      "Horn                                                              18299.0\n",
      "Billstedt                                                         17396.0\n",
      "Billbrook                                                         10281.0\n",
      "Rothenburgsort                                                    15460.0\n",
      "Veddel                                                            11004.0\n",
      "Wilhelmsburg                                                      15695.0\n",
      "Kleiner Grasbrook und Steinwerder                                  8057.0\n",
      "Waltershof und Finkenwerder                                       23654.0\n",
      "Bezirk Altona                                                         NaN\n",
      "Altona-Altstadt                                                   23000.0\n",
      "Sternschanze                                                      23311.0\n",
      "Altona-Nord                                                       23723.0\n",
      "Ottensen                                                          29432.0\n",
      "Bahrenfeld                                                        26092.0\n",
      "Groß Flottbek                                                     41796.0\n",
      "Othmarschen                                                       46527.0\n",
      "Lurup                                                             19769.0\n",
      "Osdorf                                                            22884.0\n",
      "Nienstedten                                                       45730.0\n",
      "Blankenese                                                        42805.0\n",
      "Iserbrook                                                         27762.0\n",
      "Sülldorf                                                          28262.0\n",
      "Rissen                                                            32239.0\n",
      "Bezirk Eimsbüttel                                                     NaN\n",
      "Eimsbüttel                                                            NaN\n",
      "Rotherbaum                                                        34708.0\n",
      "Harvestehude                                                          NaN\n",
      "Hoheluft-West                                                     31812.0\n",
      "Lokstedt                                                          29006.0\n",
      "Niendorf                                                          28831.0\n",
      "Schnelsen                                                         26703.0\n",
      "Eidelstedt                                                        23550.0\n",
      "Stellingen                                                        25240.0\n",
      "Bezirk Hamburg-Nord                                                   NaN\n",
      "Hoheluft-Ost                                                      34494.0\n",
      "Eppendorf                                                         35967.0\n",
      "Groß Borstel                                                      26893.0\n",
      "Alsterdorf                                                        31064.0\n",
      "Winterhude                                                            NaN\n",
      "Uhlenhorst                                                        36176.0\n",
      "Hohenfelde                                                        27159.0\n",
      "Barmbek-Süd                                                       26379.0\n",
      "Dulsberg                                                          18654.0\n",
      "Barmbek-Nord                                                      24237.0\n",
      "Ohlsdorf                                                          28517.0\n",
      "Fuhlsbüttel                                                       28332.0\n",
      "Langenhorn                                                        23465.0\n",
      "Bezirk Wandsbek                                                       NaN\n",
      "Eilbek                                                            25845.0\n",
      "Wandsbek                                                          23119.0\n",
      "Marienthal                                                        31948.0\n",
      "Jenfeld                                                           17978.0\n",
      "Tonndorf                                                          24910.0\n",
      "Farmsen-Berne                                                     25453.0\n",
      "Bramfeld                                                          23738.0\n",
      "Steilshoop                                                        17902.0\n",
      "Wellingsbüttel                                                    40692.0\n",
      "Sasel                                                             36962.0\n",
      "Poppenbüttel                                                      30605.0\n",
      "Hummelsbüttel                                                     25099.0\n",
      "Lemsahl-Mellingstedt                                              43877.0\n",
      "Duvenstedt                                                        38567.0\n",
      "Wohldorf-Ohlstedt                                                 47709.0\n",
      "Bergstedt                                                         33078.0\n",
      "Volksdorf                                                             NaN\n",
      "Rahlstedt                                                             NaN\n",
      "Bezirk Bergedorf                                                      NaN\n",
      "Lohbrügge                                                         22256.0\n",
      "Bergedorf                                                         25286.0\n",
      "Curslack                                                          30011.0\n",
      "Altengamme                                                        31455.0\n",
      "Neuengamme                                                        30104.0\n",
      "Kirchwerder                                                       29550.0\n",
      "Ochsenwerder                                                      28649.0\n",
      "Reitbrook                                                         27596.0\n",
      "Allermöhe                                                         29205.0\n",
      "Billwerder                                                        21857.0\n",
      "Moorfleet                                                         26612.0\n",
      "Tatenberg                                                         30381.0\n",
      "Spadenland                                                        27451.0\n",
      "Neuallermöhe                                                      22775.0\n",
      "Bezirk Harburg                                                        NaN\n",
      "Harburg                                                           15550.0\n",
      "Neuland und Gut Moor                                              25627.0\n",
      "Wilstorf                                                          20679.0\n",
      "Rönneburg                                                         29011.0\n",
      "Langenbek                                                         26808.0\n",
      "Sinstorf                                                          27015.0\n",
      "Marmstorf                                                         26643.0\n",
      "Eißendorf                                                         23644.0\n",
      "Heimfeld                                                          21622.0\n",
      "Altenwerder und Moorburg                                          25536.0\n",
      "Hausbruch                                                         21355.0\n",
      "Neugraben-Fischbek                                                22492.0\n",
      "Francop                                                           26568.0\n",
      "Neuenfelde                                                        22909.0\n",
      "Cranz                                                             22852.0\n",
      "nicht zuzuordnende Steuerpflichtige einschl Schiffsbevölkerung    28966.0\n",
      "Hamburg                                                           25449.0\n",
      "Name: Gesamtbetrag der Einkünfte (Median), dtype: float64\n"
     ]
    }
   ],
   "source": [
    "apd.set_option('display.max_rows', None)\n",
    "print(stadtteile_einkuenfte[\"Gesamtbetrag der Einkünfte (Median)\"])"
   ]
  },
  {
   "cell_type": "code",
   "execution_count": 43,
   "metadata": {},
   "outputs": [
    {
     "data": {
      "text/plain": [
       "nan"
      ]
     },
     "execution_count": 43,
     "metadata": {},
     "output_type": "execute_result"
    }
   ],
   "source": [
    "stadtteile_einkuenfte[\"Gesamtbetrag der Einkünfte (Median)\"].loc[\"Winterhude\"]"
   ]
  },
  {
   "cell_type": "code",
   "execution_count": 49,
   "metadata": {},
   "outputs": [],
   "source": [
    "stadtteile_einkuenfte = stadtteile.merge(stadtteile_einkuenfte, left_index=True, right_index=True)"
   ]
  },
  {
   "cell_type": "code",
   "execution_count": 50,
   "metadata": {},
   "outputs": [
    {
     "data": {
      "text/plain": [
       "<AxesSubplot:>"
      ]
     },
     "execution_count": 50,
     "metadata": {},
     "output_type": "execute_result"
    },
    {
     "data": {
      "image/png": "[encoded data removed]",
      "text/plain": [
       "<Figure size 432x288 with 2 Axes>"
      ]
     },
     "metadata": {
      "needs_background": "light"
     },
     "output_type": "display_data"
    }
   ],
   "source": [
    "stadtteile_einkuenfte.plot(column = \"Gesamtbetrag der Einkünfte (Mittelwert)\", legend= True)"
   ]
  },
  {
   "cell_type": "code",
   "execution_count": 14,
   "metadata": {},
   "outputs": [],
   "source": [
    "stadtteile_einkuenfte = stadtteile_einkuenfte.to_crs(epsg=4326)"
   ]
  },
  {
   "cell_type": "code",
   "execution_count": 54,
   "metadata": {},
   "outputs": [],
   "source": [
    "stadtteile_einkuenfte.to_file(\"../assets/geodata/Einkommen.geojson\", driver=\"GeoJSON\")"
   ]
  },
  {
   "cell_type": "code",
   "execution_count": 16,
   "metadata": {},
   "outputs": [],
   "source": [
    "einkünfte = gpd.read_file(\"../assets/geodata/Einkommen.geojson\")"
   ]
  },
  {
   "cell_type": "code",
   "execution_count": 52,
   "metadata": {},
   "outputs": [
    {
     "data": {
      "text/plain": [
       "count        94.000000\n",
       "mean      41365.563830\n",
       "std       20831.220254\n",
       "min       15831.000000\n",
       "25%       30242.750000\n",
       "50%       34785.000000\n",
       "75%       42622.750000\n",
       "max      120716.000000\n",
       "Name: Gesamtbetrag der Einkünfte (Mittelwert), dtype: float64"
      ]
     },
     "execution_count": 52,
     "metadata": {},
     "output_type": "execute_result"
    }
   ],
   "source": [
    "einkünfte[\"Gesamtbetrag der Einkünfte (Mittelwert)\"].describe()"
   ]
  },
  {
   "cell_type": "code",
   "execution_count": 53,
   "metadata": {},
   "outputs": [
    {
     "data": {
      "text/plain": [
       "Quantiles                   \n",
       "\n",
       "      Interval         Count\n",
       "----------------------------\n",
       "[     nan, 27539.67] |    32\n",
       "(27539.67, 31195.00] |    16\n",
       "(31195.00, 35049.00] |    16\n",
       "(35049.00, 40564.00] |    15\n",
       "(40564.00, 54430.00] |    16\n",
       "(54430.00,      nan] |     0"
      ]
     },
     "execution_count": 53,
     "metadata": {},
     "output_type": "execute_result"
    }
   ],
   "source": [
    "mapclassify.Quantiles(einkünfte[\"Gesamtbetrag der Einkünfte (Mittelwert)\"], k=6)"
   ]
  },
  {
   "cell_type": "code",
   "execution_count": 29,
   "metadata": {},
   "outputs": [
    {
     "data": {
      "text/plain": [
       "95"
      ]
     },
     "execution_count": 29,
     "metadata": {},
     "output_type": "execute_result"
    }
   ],
   "source": [
    "einkünfte[\"Gesamtbetrag der Einkünfte (Median)\"].isnull().count()"
   ]
  },
  {
   "cell_type": "code",
   "execution_count": 59,
   "metadata": {},
   "outputs": [],
   "source": [
    "stadtteile_einkuenfte[stadtteile_einkuenfte[\"stadtteil_nummer\"] == \"408\"].to_file(\"../assets/geodata/barmbek-sued.geojson\", driver=\"GeoJSON\")"
   ]
  },
  {
   "cell_type": "code",
   "execution_count": null,
   "metadata": {},
   "outputs": [],
   "source": []
  }
 ],
 "metadata": {
  "interpreter": {
   "hash": "a9e9394fc31bfddbd836be2dd292d461e9eefccac34f1abf0a01a77015a53553"
  },
  "kernelspec": {
   "display_name": "Python 3.9.7 64-bit ('mapping': conda)",
   "language": "python",
   "name": "python3"
  },
  "language_info": {
   "codemirror_mode": {
    "name": "ipython",
    "version": 3
   },
   "file_extension": ".py",
   "mimetype": "text/x-python",
   "name": "python",
   "nbconvert_exporter": "python",
   "pygments_lexer": "ipython3",
   "version": "3.9.7"
  },
  "orig_nbformat": 4
 },
 "nbformat": 4,
 "nbformat_minor": 2
}
